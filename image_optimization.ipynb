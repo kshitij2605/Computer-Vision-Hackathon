{
 "cells": [
  {
   "cell_type": "code",
   "execution_count": 1,
   "source": [
    "from PIL import Image\r\n",
    "import os"
   ],
   "outputs": [],
   "metadata": {}
  },
  {
   "cell_type": "code",
   "execution_count": 2,
   "source": [
    "folder = 'test_images/Testing_Images'\r\n",
    "for filename in os.listdir(folder):\r\n",
    "    img = Image.open(os.path.join(folder,filename))\r\n",
    "    img = img.resize((512,125),Image.ANTIALIAS )\r\n",
    "    img.save(\"test_images/New_Images/{}\".format(filename),quality=100)"
   ],
   "outputs": [],
   "metadata": {}
  },
  {
   "cell_type": "code",
   "execution_count": null,
   "source": [],
   "outputs": [],
   "metadata": {}
  }
 ],
 "metadata": {
  "orig_nbformat": 4,
  "language_info": {
   "name": "python",
   "version": "3.8.5",
   "mimetype": "text/x-python",
   "codemirror_mode": {
    "name": "ipython",
    "version": 3
   },
   "pygments_lexer": "ipython3",
   "nbconvert_exporter": "python",
   "file_extension": ".py"
  },
  "kernelspec": {
   "name": "python3",
   "display_name": "Python 3.8.5 64-bit"
  },
  "interpreter": {
   "hash": "776d0385c31ec595870eb83e4f9f34eaf6a8ac0041d0d5b8230ca7bfcf3c5fb0"
  }
 },
 "nbformat": 4,
 "nbformat_minor": 2
}