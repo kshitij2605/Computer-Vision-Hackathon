{
  "nbformat": 4,
  "nbformat_minor": 0,
  "metadata": {
    "colab": {
      "name": "Experimenting with other StateoftheArt Models for the purpose of classification.ipynb",
      "provenance": []
    },
    "kernelspec": {
      "display_name": "Python 3",
      "name": "python3"
    },
    "language_info": {
      "name": "python"
    }
  },
  "cells": [
    {
      "cell_type": "code",
      "metadata": {
        "id": "q-PcnnstimD3"
      },
      "source": [
        "import numpy as np\n",
        "import pandas as pd\n",
        "import sklearn\n",
        "import matplotlib.pyplot as plt\n",
        "import seaborn as sns \n",
        "from sklearn import preprocessing\n",
        "from sklearn.model_selection import cross_validate\n",
        "from sklearn.preprocessing import StandardScaler\n",
        "from sklearn.model_selection import train_test_split\n",
        "from sklearn.metrics import classification_report\n",
        "from sklearn.neural_network import MLPClassifier\n",
        "from sklearn.neighbors import KNeighborsClassifier\n",
        "from sklearn.linear_model import Perceptron\n",
        "from sklearn.model_selection import GridSearchCV\n",
        "from sklearn.ensemble import RandomForestClassifier\n",
        "from sklearn.datasets import make_classification\n",
        "from sklearn.decomposition import PCA\n",
        "from sklearn.discriminant_analysis import LinearDiscriminantAnalysis\n",
        "from sklearn.metrics import accuracy_score\n",
        "import os\n",
        "import cv2\n",
        "from google.colab.patches import cv2_imshow\n",
        "from sklearn import svm\n",
        "from sklearn import metrics\n",
        "import PIL\n",
        "from PIL import Image\n",
        "from numpy import asarray\n",
        "plt.rcParams['figure.figsize'] = [8,5]\n",
        "plt.rcParams['font.size'] =14\n",
        "plt.rcParams['font.weight']= 'bold'\n",
        "plt.style.use('seaborn-whitegrid')\n",
        "import tensorflow as tf\n",
        "import keras\n",
        "from tensorflow.keras import datasets, layers, models\n",
        "from keras import backend as K\n",
        "import matplotlib.pyplot as plt\n",
        "%matplotlib inline\n",
        "import numpy as np\n",
        "import pandas as pd\n",
        "import sklearn\n",
        "import seaborn as sns \n",
        "from sklearn import preprocessing\n",
        "from sklearn.model_selection import train_test_split\n",
        "from sklearn.preprocessing import StandardScaler\n",
        "from sklearn.preprocessing import LabelBinarizer\n",
        "from sklearn import metrics\n",
        "from sklearn.metrics import accuracy_score\n",
        "import keras\n",
        "from tensorflow.keras.utils import to_categorical\n",
        "from tensorflow.keras.models import Sequential\n",
        "from tensorflow.keras.layers import Dense, Conv2D, MaxPool2D, Flatten, Dropout, BatchNormalization\n",
        "from tensorflow.keras.callbacks import EarlyStopping\n",
        "from keras.preprocessing.image import ImageDataGenerator\n",
        "from keras.callbacks import ReduceLROnPlateau\n",
        "from sklearn.metrics import classification_report, confusion_matrix\n",
        "from keras.models import Sequential\n",
        "from keras.models import Sequential\n",
        "from keras.layers import Conv2D, Input, ZeroPadding2D, BatchNormalization, Activation, MaxPooling2D, Flatten, Dense,Dropout\n",
        "from keras.models import Model, load_model\n",
        "from keras.callbacks import TensorBoard, ModelCheckpoint"
      ],
      "execution_count": null,
      "outputs": []
    },
    {
      "cell_type": "code",
      "metadata": {
        "colab": {
          "base_uri": "https://localhost:8080/"
        },
        "id": "UseBUZy8stTW",
        "outputId": "d6cbb578-7a57-445f-990c-5088ea348e32"
      },
      "source": [
        "from google.colab import drive\n",
        "drive.mount('/content/drive')"
      ],
      "execution_count": null,
      "outputs": [
        {
          "name": "stdout",
          "output_type": "stream",
          "text": [
            "Mounted at /content/drive\n"
          ]
        }
      ]
    },
    {
      "cell_type": "markdown",
      "metadata": {
        "id": "j31c5GHpjYlJ"
      },
      "source": [
        "#Data Reading and Processing "
      ]
    },
    {
      "cell_type": "markdown",
      "metadata": {
        "id": "GQ_8CewVjgG_"
      },
      "source": [
        "First Reading The data from labels (Defected or not Defected)"
      ]
    },
    {
      "cell_type": "code",
      "metadata": {
        "id": "pPHdIuYUjHAc"
      },
      "source": [
        "file_path = '/content/drive/MyDrive/CV Hackathon/Training Data/Labels/Train_DefectType_PrithviAI.csv'\n",
        "df = pd.read_csv(file_path)\n",
        "df_array=df.to_numpy()"
      ],
      "execution_count": null,
      "outputs": []
    },
    {
      "cell_type": "code",
      "metadata": {
        "colab": {
          "base_uri": "https://localhost:8080/"
        },
        "id": "8qXAx2aWjtLU",
        "outputId": "7d08a3e9-654b-4043-f62e-0d07d7d10031"
      },
      "source": [
        "df_array.shape"
      ],
      "execution_count": null,
      "outputs": [
        {
          "data": {
            "text/plain": [
              "(4051, 2)"
            ]
          },
          "execution_count": 4,
          "metadata": {
            "tags": []
          },
          "output_type": "execute_result"
        }
      ]
    },
    {
      "cell_type": "code",
      "metadata": {
        "id": "9VFZAuhrCNlg"
      },
      "source": [
        "#Reading all images from testing dataset  from google drive\n",
        "testing_dataset = []\n",
        "\n",
        "for file in os.listdir(os.path.join(\"/content/drive/MyDrive/CV Hackathon/Testing Images\")):\n",
        "  x = os.path.join(\"/content/drive/MyDrive/CV Hackathon/Testing Images\")\n",
        "  path = os.path.join(x, file)\n",
        "  img = cv2.imread(path)\n",
        "  resized_image = cv2.resize(img, (512, 125)) \n",
        "  testing_dataset.append([file,resized_image])   \n",
        "  print(len(testing_dataset))     "
      ],
      "execution_count": null,
      "outputs": []
    },
    {
      "cell_type": "code",
      "metadata": {
        "id": "FUWwXvXWFNFo"
      },
      "source": [
        "testing_data_img_list = []\n",
        "testing_data_filename = []\n",
        "\n",
        "\n",
        "for i in testing_dataset:\n",
        "  testing_data_filename.append(i[0])\n",
        "  testing_data_img_list.append(i[1])\n",
        "\n",
        "\n",
        "final_test_img_data = np.array(testing_data_img_list)\n",
        "final_test_img_data = final_test_img_data/255\n"
      ],
      "execution_count": null,
      "outputs": []
    },
    {
      "cell_type": "code",
      "metadata": {
        "colab": {
          "base_uri": "https://localhost:8080/"
        },
        "id": "gYMA_R01Jnep",
        "outputId": "ea83e148-e114-4c91-f2cd-c6b76329d5c8"
      },
      "source": [
        "len(testing_data_filename)"
      ],
      "execution_count": null,
      "outputs": [
        {
          "data": {
            "text/plain": [
              "1099"
            ]
          },
          "execution_count": 56,
          "metadata": {
            "tags": []
          },
          "output_type": "execute_result"
        }
      ]
    },
    {
      "cell_type": "code",
      "metadata": {
        "colab": {
          "base_uri": "https://localhost:8080/"
        },
        "id": "F5sP01_FJpkt",
        "outputId": "b187ed40-62d7-4cec-d818-29534364df83"
      },
      "source": [
        "len(testing_data_img_list)"
      ],
      "execution_count": null,
      "outputs": [
        {
          "data": {
            "text/plain": [
              "1099"
            ]
          },
          "execution_count": 57,
          "metadata": {
            "tags": []
          },
          "output_type": "execute_result"
        }
      ]
    },
    {
      "cell_type": "code",
      "metadata": {
        "id": "64dOkbb7jxZg"
      },
      "source": [
        "dataset_bad = [] \n",
        "for i in df_array :\n",
        "  if i[1]== 1:\n",
        "\n",
        "\n",
        "    for file in os.listdir(os.path.join(\"/content/drive/MyDrive/CV Hackathon/Training Data/Images Unzipped/Images\")):\n",
        "      if i[0]== file:\n",
        "      \n",
        "  \n",
        "        x = os.path.join(\"/content/drive/MyDrive/CV Hackathon/Training Data/Images Unzipped/Images\")\n",
        "\n",
        "        path = os.path.join(x, file)\n",
        "        img = cv2.imread(path)\n",
        "        resized_image = cv2.resize(img, (512,125)) \n",
        "        dataset_bad.append([file,resized_image])   \n",
        "        print(len(dataset_bad))"
      ],
      "execution_count": null,
      "outputs": []
    },
    {
      "cell_type": "code",
      "metadata": {
        "id": "x4kEkUctzMLo"
      },
      "source": [
        "count_bad=len(dataset_bad)"
      ],
      "execution_count": null,
      "outputs": []
    },
    {
      "cell_type": "code",
      "metadata": {
        "colab": {
          "base_uri": "https://localhost:8080/"
        },
        "id": "I-CV3_whzSXo",
        "outputId": "d2d10c4b-d897-4494-c692-490a496a2ec0"
      },
      "source": [
        "count_bad"
      ],
      "execution_count": null,
      "outputs": [
        {
          "data": {
            "text/plain": [
              "612"
            ]
          },
          "execution_count": 9,
          "metadata": {
            "tags": []
          },
          "output_type": "execute_result"
        }
      ]
    },
    {
      "cell_type": "code",
      "metadata": {
        "id": "RlZuOp9-aEBE"
      },
      "source": [
        "dataset_good = []\n",
        "counter=0\n",
        "for i in df_array :\n",
        "  while counter< count_bad+200:\n",
        "\n",
        "    if i[1]== 0:\n",
        "\n",
        "\n",
        "      for file in os.listdir(os.path.join(\"/content/drive/MyDrive/CV Hackathon/Training Data/Images Unzipped/Images\")):\n",
        "        if i[0]== file:\n",
        "        \n",
        "    \n",
        "          x = os.path.join(\"/content/drive/MyDrive/CV Hackathon/Training Data/Images Unzipped/Images\")\n",
        "\n",
        "          path = os.path.join(x, file)\n",
        "          img = cv2.imread(path)\n",
        "          resized_image = cv2.resize(img, (512,125)) \n",
        "          dataset_good.append([file,resized_image])   \n",
        "          print(len(dataset_good))\n",
        "    counter=counter+1\n",
        "  \n",
        "       "
      ],
      "execution_count": null,
      "outputs": []
    },
    {
      "cell_type": "code",
      "metadata": {
        "id": "LsE5otXwyCbZ"
      },
      "source": [
        "counter=0\n",
        "\n",
        "good_data=[]\n",
        "for i in dataset_good:\n",
        "  \n",
        "  \n",
        "  while counter < int(count_bad) :\n",
        "      good_data.append([i[1],0])\n",
        "      counter=counter+1\n",
        "    "
      ],
      "execution_count": null,
      "outputs": []
    },
    {
      "cell_type": "code",
      "metadata": {
        "colab": {
          "base_uri": "https://localhost:8080/"
        },
        "id": "8dO4y1jWrYr-",
        "outputId": "e942f5aa-1d0e-405c-c714-29141f2273c4"
      },
      "source": [
        "len(good_data)"
      ],
      "execution_count": null,
      "outputs": [
        {
          "data": {
            "text/plain": [
              "612"
            ]
          },
          "execution_count": 12,
          "metadata": {
            "tags": []
          },
          "output_type": "execute_result"
        }
      ]
    },
    {
      "cell_type": "code",
      "metadata": {
        "id": "yqSYMungz76h"
      },
      "source": [
        "test_good_data=[]\n",
        "for i in dataset_good[613:]:\n",
        "  test_good_data.append([i[1],0])"
      ],
      "execution_count": null,
      "outputs": []
    },
    {
      "cell_type": "code",
      "metadata": {
        "id": "UVs_IK0f2uY7"
      },
      "source": [
        "good_data[0]"
      ],
      "execution_count": null,
      "outputs": []
    },
    {
      "cell_type": "code",
      "metadata": {
        "id": "ZyfXfEUz0eH5"
      },
      "source": [
        "bad_data=[]\n",
        "for i in dataset_bad:\n",
        "  bad_data.append([i[1],1])"
      ],
      "execution_count": null,
      "outputs": []
    },
    {
      "cell_type": "code",
      "metadata": {
        "id": "spLWk9Zs3Jx5"
      },
      "source": [
        "bad_data[0]"
      ],
      "execution_count": null,
      "outputs": []
    },
    {
      "cell_type": "code",
      "metadata": {
        "id": "_29TSFxV4aCg"
      },
      "source": [
        "good_data[0]"
      ],
      "execution_count": null,
      "outputs": []
    },
    {
      "cell_type": "code",
      "metadata": {
        "id": "F-boBHhC0zpa"
      },
      "source": [
        "final_dataset=good_data+bad_data"
      ],
      "execution_count": null,
      "outputs": []
    },
    {
      "cell_type": "code",
      "metadata": {
        "id": "zRm0gpEh1amD"
      },
      "source": [
        "import random\n",
        "random.shuffle(final_dataset)"
      ],
      "execution_count": null,
      "outputs": []
    },
    {
      "cell_type": "code",
      "metadata": {
        "id": "-f-QTho61hLT"
      },
      "source": [
        "image_data=[]\n",
        "label=[]\n",
        "for i  in final_dataset:\n",
        "  image_data.append(i[0])\n",
        "  label.append(i[1])\n"
      ],
      "execution_count": null,
      "outputs": []
    },
    {
      "cell_type": "code",
      "metadata": {
        "id": "0DXdClx212tk"
      },
      "source": [
        "imagedata = np.array(image_data)\n",
        "imagedata= imagedata/255"
      ],
      "execution_count": null,
      "outputs": []
    },
    {
      "cell_type": "code",
      "metadata": {
        "id": "wTJ6TCHq3AwL"
      },
      "source": [
        "imagedata[0]"
      ],
      "execution_count": null,
      "outputs": []
    },
    {
      "cell_type": "code",
      "metadata": {
        "colab": {
          "base_uri": "https://localhost:8080/"
        },
        "id": "psZ93eMx5euM",
        "outputId": "022f79e3-f136-4cf5-8b80-ebcadefc500b"
      },
      "source": [
        "imagedata.shape"
      ],
      "execution_count": null,
      "outputs": [
        {
          "data": {
            "text/plain": [
              "(1224, 125, 512, 3)"
            ]
          },
          "execution_count": 24,
          "metadata": {
            "tags": []
          },
          "output_type": "execute_result"
        }
      ]
    },
    {
      "cell_type": "code",
      "metadata": {
        "colab": {
          "base_uri": "https://localhost:8080/"
        },
        "id": "mDpfNeCX5k-5",
        "outputId": "ca42b809-fa18-4f89-860c-be505fba95d0"
      },
      "source": [
        "label[0]"
      ],
      "execution_count": null,
      "outputs": [
        {
          "data": {
            "text/plain": [
              "1"
            ]
          },
          "execution_count": 25,
          "metadata": {
            "tags": []
          },
          "output_type": "execute_result"
        }
      ]
    },
    {
      "cell_type": "code",
      "metadata": {
        "id": "igePAJgf59xO"
      },
      "source": [
        "label_array=np.array(label)"
      ],
      "execution_count": null,
      "outputs": []
    },
    {
      "cell_type": "code",
      "metadata": {
        "id": "0p04aDEo3sYo"
      },
      "source": [
        "x_train, x_test, y_train, y_test = train_test_split(imagedata,label_array, test_size = 0.20)"
      ],
      "execution_count": null,
      "outputs": []
    },
    {
      "cell_type": "code",
      "metadata": {
        "colab": {
          "base_uri": "https://localhost:8080/"
        },
        "id": "Art8Iklo7WnG",
        "outputId": "e02a1403-166f-48b2-f221-7bbd16ef093b"
      },
      "source": [
        "x_test.shape"
      ],
      "execution_count": null,
      "outputs": [
        {
          "data": {
            "text/plain": [
              "(245, 125, 512, 3)"
            ]
          },
          "execution_count": 29,
          "metadata": {
            "tags": []
          },
          "output_type": "execute_result"
        }
      ]
    },
    {
      "cell_type": "code",
      "metadata": {
        "id": "82-x0OQa73tA"
      },
      "source": [
        "for i in x_test:\n",
        "  print(i)\n",
        "  break"
      ],
      "execution_count": null,
      "outputs": []
    },
    {
      "cell_type": "code",
      "metadata": {
        "id": "RYwZ0zdq6xUw"
      },
      "source": [
        " counter = 0\n",
        "\n",
        "i = x_test[0]\n",
        "# if (i in x_train):\n",
        "#   print(i)\n",
        "#   print(x_train)\n",
        "# print(counter)\n",
        "# Get the index of elements with value 15\n",
        "result = np.where(x_train == i)\n",
        "print('Tuple of arrays returned : ', result)\n",
        "print(\"Elements with value 15 exists at following indices\", result[0], sep='\\n')"
      ],
      "execution_count": null,
      "outputs": []
    },
    {
      "cell_type": "markdown",
      "metadata": {
        "id": "BACA9oRTg2Va"
      },
      "source": [
        "#***CNN Implementation for Defect Detection in Fabric***"
      ]
    },
    {
      "cell_type": "code",
      "metadata": {
        "id": "L9YmGQBQPrdn"
      },
      "source": [
        "#Our CNN takes tensors of shape (image_height, image_width, color_channels)\n",
        "#Intializing the architecture for CNN model having ReLU as activation function and using MaxPooling\n",
        "cnn_classifier = models.Sequential()\n",
        "cnn_classifier.add(layers.Conv2D(32, (3, 3), activation='relu', input_shape=(512, 125, 3)))\n",
        "cnn_classifier.add(layers.MaxPooling2D((2, 2)))\n",
        "cnn_classifier.add(layers.Conv2D(64, (3, 3), activation='relu'))\n",
        "cnn_classifier.add(layers.MaxPooling2D((2, 2)))\n",
        "cnn_classifier.add(layers.Conv2D(64, (3, 3), activation='relu'))"
      ],
      "execution_count": null,
      "outputs": []
    },
    {
      "cell_type": "code",
      "metadata": {
        "colab": {
          "base_uri": "https://localhost:8080/"
        },
        "id": "8-C4XBg4UTJy",
        "outputId": "eabf3d05-18f4-4fdf-b560-074fd0818cd3"
      },
      "source": [
        "# The architecture of our CNN classifier uptil now.\n",
        "cnn_classifier.summary()"
      ],
      "execution_count": null,
      "outputs": [
        {
          "name": "stdout",
          "output_type": "stream",
          "text": [
            "Model: \"sequential_1\"\n",
            "_________________________________________________________________\n",
            "Layer (type)                 Output Shape              Param #   \n",
            "=================================================================\n",
            "conv2d_3 (Conv2D)            (None, 510, 123, 32)      896       \n",
            "_________________________________________________________________\n",
            "max_pooling2d_2 (MaxPooling2 (None, 255, 61, 32)       0         \n",
            "_________________________________________________________________\n",
            "conv2d_4 (Conv2D)            (None, 253, 59, 64)       18496     \n",
            "_________________________________________________________________\n",
            "max_pooling2d_3 (MaxPooling2 (None, 126, 29, 64)       0         \n",
            "_________________________________________________________________\n",
            "conv2d_5 (Conv2D)            (None, 124, 27, 64)       36928     \n",
            "=================================================================\n",
            "Total params: 56,320\n",
            "Trainable params: 56,320\n",
            "Non-trainable params: 0\n",
            "_________________________________________________________________\n"
          ]
        }
      ]
    },
    {
      "cell_type": "code",
      "metadata": {
        "id": "mRs95d6LUVEi"
      },
      "source": [
        "#Adding Dense Layers on Top to perform Classification on mask detection because Dense layers take vectors as input (which are 1D), while the current output is a 3D tensor.\n",
        "cnn_classifier.add(layers.Flatten())\n",
        "cnn_classifier.add(layers.Dense(64, activation='relu'))\n",
        "cnn_classifier.add(layers.Dense(10))\n",
        "cnn_classifier.add(layers.Dense(5))\n",
        "cnn_classifier.add(layers.Dense(2))"
      ],
      "execution_count": null,
      "outputs": []
    },
    {
      "cell_type": "markdown",
      "metadata": {
        "id": "ipGiQMcR4Gtq"
      },
      "source": [
        "Here's the complete architecture of our model."
      ]
    },
    {
      "cell_type": "code",
      "metadata": {
        "colab": {
          "base_uri": "https://localhost:8080/"
        },
        "id": "8Yu_m-TZUWGX",
        "outputId": "4100250e-03f8-412e-f269-96941cd15c5e"
      },
      "source": [
        "# The architecture of our finalised CNN classifier.\n",
        "cnn_classifier.summary()"
      ],
      "execution_count": null,
      "outputs": [
        {
          "name": "stdout",
          "output_type": "stream",
          "text": [
            "Model: \"sequential_1\"\n",
            "_________________________________________________________________\n",
            "Layer (type)                 Output Shape              Param #   \n",
            "=================================================================\n",
            "conv2d_3 (Conv2D)            (None, 510, 123, 32)      896       \n",
            "_________________________________________________________________\n",
            "max_pooling2d_2 (MaxPooling2 (None, 255, 61, 32)       0         \n",
            "_________________________________________________________________\n",
            "conv2d_4 (Conv2D)            (None, 253, 59, 64)       18496     \n",
            "_________________________________________________________________\n",
            "max_pooling2d_3 (MaxPooling2 (None, 126, 29, 64)       0         \n",
            "_________________________________________________________________\n",
            "conv2d_5 (Conv2D)            (None, 124, 27, 64)       36928     \n",
            "_________________________________________________________________\n",
            "flatten_1 (Flatten)          (None, 214272)            0         \n",
            "_________________________________________________________________\n",
            "dense_2 (Dense)              (None, 64)                13713472  \n",
            "_________________________________________________________________\n",
            "dense_3 (Dense)              (None, 10)                650       \n",
            "_________________________________________________________________\n",
            "flatten_2 (Flatten)          (None, 10)                0         \n",
            "_________________________________________________________________\n",
            "dense_4 (Dense)              (None, 64)                704       \n",
            "_________________________________________________________________\n",
            "dense_5 (Dense)              (None, 10)                650       \n",
            "_________________________________________________________________\n",
            "flatten_3 (Flatten)          (None, 10)                0         \n",
            "_________________________________________________________________\n",
            "dense_6 (Dense)              (None, 64)                704       \n",
            "_________________________________________________________________\n",
            "dense_7 (Dense)              (None, 10)                650       \n",
            "_________________________________________________________________\n",
            "dense_8 (Dense)              (None, 5)                 55        \n",
            "_________________________________________________________________\n",
            "dense_9 (Dense)              (None, 2)                 12        \n",
            "=================================================================\n",
            "Total params: 13,773,217\n",
            "Trainable params: 13,773,217\n",
            "Non-trainable params: 0\n",
            "_________________________________________________________________\n"
          ]
        }
      ]
    },
    {
      "cell_type": "code",
      "metadata": {
        "colab": {
          "base_uri": "https://localhost:8080/"
        },
        "id": "MdDzI75PUXrG",
        "outputId": "3405098c-f77d-4738-f8e9-b224015d6158"
      },
      "source": [
        "# Compiling and training our CNN classifier using keras API based on accuracy and epoch = 12\n",
        "cnn_classifier.compile(optimizer='adam', loss=tf.keras.losses.SparseCategoricalCrossentropy(from_logits=True), metrics=['accuracy'])\n",
        "history = cnn_classifier.fit(x_train , y_train, epochs = 3,  validation_data=(x_test , y_test))"
      ],
      "execution_count": null,
      "outputs": [
        {
          "name": "stdout",
          "output_type": "stream",
          "text": [
            "Epoch 1/3\n",
            "WARNING:tensorflow:Model was constructed with shape (None, 512, 125, 3) for input KerasTensor(type_spec=TensorSpec(shape=(None, 512, 125, 3), dtype=tf.float32, name='conv2d_3_input'), name='conv2d_3_input', description=\"created by layer 'conv2d_3_input'\"), but it was called on an input with incompatible shape (None, 125, 512, 3).\n",
            "WARNING:tensorflow:Model was constructed with shape (None, 512, 125, 3) for input KerasTensor(type_spec=TensorSpec(shape=(None, 512, 125, 3), dtype=tf.float32, name='conv2d_3_input'), name='conv2d_3_input', description=\"created by layer 'conv2d_3_input'\"), but it was called on an input with incompatible shape (None, 125, 512, 3).\n",
            "31/31 [==============================] - ETA: 0s - loss: 1.0843 - accuracy: 0.8999WARNING:tensorflow:Model was constructed with shape (None, 512, 125, 3) for input KerasTensor(type_spec=TensorSpec(shape=(None, 512, 125, 3), dtype=tf.float32, name='conv2d_3_input'), name='conv2d_3_input', description=\"created by layer 'conv2d_3_input'\"), but it was called on an input with incompatible shape (None, 125, 512, 3).\n",
            "31/31 [==============================] - 108s 3s/step - loss: 1.0843 - accuracy: 0.8999 - val_loss: 0.0386 - val_accuracy: 0.9959\n",
            "Epoch 2/3\n",
            "31/31 [==============================] - 106s 3s/step - loss: 0.0321 - accuracy: 0.9908 - val_loss: 0.0078 - val_accuracy: 0.9959\n",
            "Epoch 3/3\n",
            "31/31 [==============================] - 106s 3s/step - loss: 0.0587 - accuracy: 0.9877 - val_loss: 0.0363 - val_accuracy: 0.9878\n"
          ]
        }
      ]
    },
    {
      "cell_type": "markdown",
      "metadata": {
        "id": "jKgyC5K_4O0d"
      },
      "source": [
        "### Evaluate the model"
      ]
    },
    {
      "cell_type": "code",
      "metadata": {
        "colab": {
          "base_uri": "https://localhost:8080/",
          "height": 280
        },
        "id": "gtyDF0MKUcM7",
        "outputId": "11a55964-5aa8-4c7e-f707-af95d83964ae"
      },
      "source": [
        "#Plotting accuracy and validation accuracy vs epoch to see if we are overfitting or underfitting\n",
        "plt.plot(history.history['val_accuracy'], label = 'Validation accuracy')\n",
        "plt.plot(history.history['accuracy'], label='Accuracy')\n",
        "plt.ylim([0.25, 1])\n",
        "plt.ylabel('Accuracy')\n",
        "plt.xlabel('Epochs')\n",
        "plt.legend(loc = 'upper right')\n",
        "test_loss_occured, test_accuracy = cnn_classifier.evaluate(x_test, y_test, verbose = 10)"
      ],
      "execution_count": null,
      "outputs": [
        {
          "data": {
            "image/png": "[encoded data removed]",
            "text/plain": [
              "<Figure size 432x288 with 1 Axes>"
            ]
          },
          "metadata": {
            "tags": []
          },
          "output_type": "display_data"
        }
      ]
    },
    {
      "cell_type": "code",
      "metadata": {
        "colab": {
          "base_uri": "https://localhost:8080/"
        },
        "id": "AVmVGDEr5K5A",
        "outputId": "df28481d-9a1b-4b2e-a41a-cd6b361b57a4"
      },
      "source": [
        "#Various parameters calculated during training\n",
        "history.history"
      ],
      "execution_count": null,
      "outputs": [
        {
          "data": {
            "text/plain": [
              "{'accuracy': [0.7099080681800842, 0.9948927760124207, 1.0, 1.0, 1.0, 1.0],\n",
              " 'loss': [0.6732575297355652,\n",
              "  0.017292993143200874,\n",
              "  0.001147932605817914,\n",
              "  3.1309427868109196e-05,\n",
              "  2.2784481188864447e-05,\n",
              "  1.8342709154239856e-05],\n",
              " 'val_accuracy': [0.9959183931350708, 1.0, 1.0, 1.0, 1.0, 1.0],\n",
              " 'val_loss': [0.03735005110502243,\n",
              "  0.012103268876671791,\n",
              "  4.259477282175794e-05,\n",
              "  2.8363510864437558e-05,\n",
              "  2.269916694785934e-05,\n",
              "  1.989411066460889e-05]}"
            ]
          },
          "execution_count": 43,
          "metadata": {
            "tags": []
          },
          "output_type": "execute_result"
        }
      ]
    },
    {
      "cell_type": "markdown",
      "metadata": {
        "id": "oev03obO9Gqi"
      },
      "source": [
        "# Another CNN"
      ]
    },
    {
      "cell_type": "markdown",
      "metadata": {
        "id": "bhNzJ71v-Qx5"
      },
      "source": [
        ""
      ]
    },
    {
      "cell_type": "code",
      "metadata": {
        "id": "663CCmyc6SEg"
      },
      "source": [
        "listlabels=['good','bad']"
      ],
      "execution_count": null,
      "outputs": []
    },
    {
      "cell_type": "code",
      "metadata": {
        "id": "EtjMCxyhZLo7"
      },
      "source": [
        "test_good_images=[]\n",
        "test_good_labels=[]\n",
        "for i in test_good_data:\n",
        "  test_good_images.append(i[0])\n",
        "  test_good_labels.append(i[1])\n"
      ],
      "execution_count": null,
      "outputs": []
    },
    {
      "cell_type": "code",
      "metadata": {
        "id": "MG55en4DZplQ"
      },
      "source": [
        "test_good_ary=np.array(test_good_images)\n",
        "test_good_ary=test_good_ary/255"
      ],
      "execution_count": null,
      "outputs": []
    },
    {
      "cell_type": "code",
      "metadata": {
        "colab": {
          "base_uri": "https://localhost:8080/"
        },
        "id": "xUrSDoIMZ9Yq",
        "outputId": "3c8a00e6-b182-407a-e584-7c9e9c1eaeec"
      },
      "source": [
        "y_predict_good = cnn_classifier.predict(test_good_ary)\n",
        "predicted_class_good = [np.argmax(element) for element in y_predict_good]"
      ],
      "execution_count": null,
      "outputs": [
        {
          "name": "stdout",
          "output_type": "stream",
          "text": [
            "WARNING:tensorflow:Model was constructed with shape (None, 512, 125, 3) for input KerasTensor(type_spec=TensorSpec(shape=(None, 512, 125, 3), dtype=tf.float32, name='conv2d_3_input'), name='conv2d_3_input', description=\"created by layer 'conv2d_3_input'\"), but it was called on an input with incompatible shape (None, 125, 512, 3).\n"
          ]
        }
      ]
    },
    {
      "cell_type": "code",
      "metadata": {
        "colab": {
          "base_uri": "https://localhost:8080/",
          "height": 385
        },
        "id": "uFjnZFiyaNV5",
        "outputId": "5105edef-06e7-455f-9b61-108b1c3a8064"
      },
      "source": [
        "cm = confusion_matrix(test_good_labels,predicted_class_good)\n",
        "plt.figure(figsize=(6,6))\n",
        "sns.heatmap(cm, cbar=False, xticklabels=listlabels, yticklabels=listlabels, fmt='d', annot=True, cmap='Blues')\n",
        "plt.xlabel('Predicted')\n",
        "plt.ylabel('Actual')\n",
        "plt.show()"
      ],
      "execution_count": null,
      "outputs": [
        {
          "data": {
            "image/png": "[encoded data removed]",
            "text/plain": [
              "<Figure size 432x432 with 1 Axes>"
            ]
          },
          "metadata": {
            "tags": []
          },
          "output_type": "display_data"
        }
      ]
    },
    {
      "cell_type": "code",
      "metadata": {
        "id": "E9R7SH4dDEDY"
      },
      "source": [
        "y_predict_final = cnn_classifier.predict(final_test_img_data)\n",
        "final_predicted_class = [np.argmax(element) for element in y_predict_final]"
      ],
      "execution_count": null,
      "outputs": []
    },
    {
      "cell_type": "code",
      "metadata": {
        "colab": {
          "base_uri": "https://localhost:8080/"
        },
        "id": "MkXrZBnAKc4Q",
        "outputId": "9d537b1b-3fc5-4374-9bfd-8cb36e957505"
      },
      "source": [
        "y_predict_final"
      ],
      "execution_count": null,
      "outputs": [
        {
          "data": {
            "text/plain": [
              "array([[ 25.969082 ,  39.8464   ,  -7.729013 , ..., -31.489552 ,\n",
              "        -19.850103 , -51.45193  ],\n",
              "       [ 24.639465 ,  37.474697 ,  -7.3375607, ..., -29.81519  ,\n",
              "        -18.684107 , -48.440434 ],\n",
              "       [ 26.120731 ,  39.679043 ,  -7.728513 , ..., -31.549229 ,\n",
              "        -19.795332 , -51.35099  ],\n",
              "       ...,\n",
              "       [ 24.846807 ,  37.628292 ,  -7.396506 , ..., -30.006725 ,\n",
              "        -18.718334 , -48.71898  ],\n",
              "       [ 24.59519  ,  38.39251  ,  -7.3833065, ..., -30.046812 ,\n",
              "        -19.297504 , -49.236923 ],\n",
              "       [ 26.319113 ,  39.726532 ,  -7.7837524, ..., -31.741032 ,\n",
              "        -19.783417 , -51.529114 ]], dtype=float32)"
            ]
          },
          "execution_count": 61,
          "metadata": {
            "tags": []
          },
          "output_type": "execute_result"
        }
      ]
    },
    {
      "cell_type": "code",
      "metadata": {
        "colab": {
          "background_save": true,
          "base_uri": "https://localhost:8080/"
        },
        "id": "reb3UdMKKMl2",
        "outputId": "414d0eaa-4e8c-4a33-bf6c-0a604225d674"
      },
      "source": [
        "final_predicted_class.count(1)"
      ],
      "execution_count": null,
      "outputs": [
        {
          "data": {
            "text/plain": [
              "1099"
            ]
          },
          "execution_count": null,
          "metadata": {},
          "output_type": "execute_result"
        }
      ]
    },
    {
      "cell_type": "code",
      "metadata": {
        "id": "2Kh3x_TcEYL4"
      },
      "source": [
        "prediction = pd.DataFrame(y_pred, columns=['class']).to_csv('prediction_finale.csv')\n"
      ],
      "execution_count": null,
      "outputs": []
    }
  ]
}