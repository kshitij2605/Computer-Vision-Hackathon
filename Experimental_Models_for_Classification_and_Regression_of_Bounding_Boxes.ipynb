{
  "nbformat": 4,
  "nbformat_minor": 0,
  "metadata": {
    "colab": {
      "name": "Experimental Models for Classification and Regression of Bounding Boxes.ipynb",
      "provenance": []
    },
    "kernelspec": {
      "name": "python3",
      "display_name": "Python 3"
    },
    "language_info": {
      "name": "python"
    }
  },
  "cells": [
    {
      "cell_type": "code",
      "metadata": {
        "id": "q-PcnnstimD3"
      },
      "source": [
        "import numpy as np\n",
        "import pandas as pd\n",
        "import sklearn\n",
        "import matplotlib.pyplot as plt\n",
        "import seaborn as sns \n",
        "from sklearn import preprocessing\n",
        "from sklearn.model_selection import cross_validate\n",
        "from sklearn.preprocessing import StandardScaler\n",
        "from sklearn.model_selection import train_test_split\n",
        "from sklearn.metrics import classification_report\n",
        "from sklearn.neural_network import MLPClassifier\n",
        "from sklearn.neighbors import KNeighborsClassifier\n",
        "from sklearn.linear_model import Perceptron\n",
        "from sklearn.model_selection import GridSearchCV\n",
        "from sklearn.ensemble import RandomForestClassifier\n",
        "from sklearn.datasets import make_classification\n",
        "from sklearn.decomposition import PCA\n",
        "from sklearn.discriminant_analysis import LinearDiscriminantAnalysis\n",
        "from sklearn.metrics import accuracy_score\n",
        "import os\n",
        "import cv2\n",
        "from google.colab.patches import cv2_imshow\n",
        "from sklearn import svm\n",
        "from sklearn import metrics\n",
        "import PIL\n",
        "from PIL import Image\n",
        "from numpy import asarray\n",
        "plt.rcParams['figure.figsize'] = [8,5]\n",
        "plt.rcParams['font.size'] =14\n",
        "plt.rcParams['font.weight']= 'bold'\n",
        "plt.style.use('seaborn-whitegrid')\n",
        "import tensorflow as tf\n",
        "import keras\n",
        "from tensorflow.keras import datasets, layers, models\n",
        "from keras import backend as K\n",
        "import matplotlib.pyplot as plt\n",
        "%matplotlib inline\n",
        "import numpy as np\n",
        "import pandas as pd\n",
        "import sklearn\n",
        "import seaborn as sns \n",
        "from sklearn import preprocessing\n",
        "from sklearn.model_selection import train_test_split\n",
        "from sklearn.preprocessing import StandardScaler\n",
        "from sklearn.preprocessing import LabelBinarizer\n",
        "from sklearn import metrics\n",
        "from sklearn.metrics import accuracy_score\n",
        "import keras\n",
        "from tensorflow.keras.utils import to_categorical\n",
        "from tensorflow.keras.models import Sequential\n",
        "from tensorflow.keras.layers import Dense, Conv2D, MaxPool2D, Flatten, Dropout, BatchNormalization\n",
        "from tensorflow.keras.callbacks import EarlyStopping\n",
        "from keras.preprocessing.image import ImageDataGenerator\n",
        "from keras.callbacks import ReduceLROnPlateau\n",
        "from sklearn.metrics import classification_report, confusion_matrix\n",
        "from keras.models import Sequential\n",
        "from keras.models import Sequential\n",
        "from keras.layers import Conv2D, Input, ZeroPadding2D, BatchNormalization, Activation, MaxPooling2D, Flatten, Dense,Dropout\n",
        "from keras.models import Model, load_model\n",
        "from keras.callbacks import TensorBoard, ModelCheckpoint"
      ],
      "execution_count": null,
      "outputs": []
    },
    {
      "cell_type": "markdown",
      "metadata": {
        "id": "j31c5GHpjYlJ"
      },
      "source": [
        "#Data Reading and Processing "
      ]
    },
    {
      "cell_type": "markdown",
      "metadata": {
        "id": "GQ_8CewVjgG_"
      },
      "source": [
        "First Reading The data from labels (Defected or not Defected)"
      ]
    },
    {
      "cell_type": "code",
      "metadata": {
        "id": "pPHdIuYUjHAc"
      },
      "source": [
        "file_path = '/content/drive/MyDrive/CV Hackathon/Training Data/Labels/Train_DefectType_PrithviAI.csv'\n",
        "df = pd.read_csv(file_path)\n",
        "df_array=df.to_numpy()"
      ],
      "execution_count": null,
      "outputs": []
    },
    {
      "cell_type": "code",
      "metadata": {
        "colab": {
          "base_uri": "https://localhost:8080/"
        },
        "id": "8qXAx2aWjtLU",
        "outputId": "f307f147-7bfb-4fad-ccdc-db54b398180a"
      },
      "source": [
        "df_array.shape"
      ],
      "execution_count": null,
      "outputs": [
        {
          "output_type": "execute_result",
          "data": {
            "text/plain": [
              "(4051, 2)"
            ]
          },
          "metadata": {
            "tags": []
          },
          "execution_count": 3
        }
      ]
    },
    {
      "cell_type": "code",
      "metadata": {
        "colab": {
          "base_uri": "https://localhost:8080/"
        },
        "id": "mBVHjfV1j7zB",
        "outputId": "6e549406-a5ce-4014-bf8b-41141a7af857"
      },
      "source": [
        "df_array[1][1]"
      ],
      "execution_count": null,
      "outputs": [
        {
          "output_type": "execute_result",
          "data": {
            "text/plain": [
              "0"
            ]
          },
          "metadata": {
            "tags": []
          },
          "execution_count": 4
        }
      ]
    },
    {
      "cell_type": "code",
      "metadata": {
        "id": "64dOkbb7jxZg"
      },
      "source": [
        "dataset_bad = [] \n",
        "for i in df_array :\n",
        "  if i[1]== 1:\n",
        "\n",
        "\n",
        "    for file in os.listdir(os.path.join(\"/content/drive/MyDrive/CV Hackathon/Training Data/Images Unzipped/Images\")):\n",
        "      if i[0]== file:\n",
        "      \n",
        "  \n",
        "        x = os.path.join(\"/content/drive/MyDrive/CV Hackathon/Training Data/Images Unzipped/Images\")\n",
        "\n",
        "        path = os.path.join(x, file)\n",
        "        img = cv2.imread(path)\n",
        "        resized_image = cv2.resize(img, (512,125)) \n",
        "        dataset_bad.append([file,resized_image])   \n",
        "  \n",
        "      \n",
        "  "
      ],
      "execution_count": null,
      "outputs": []
    },
    {
      "cell_type": "code",
      "metadata": {
        "colab": {
          "base_uri": "https://localhost:8080/"
        },
        "id": "VGRDHesukGWG",
        "outputId": "1f0b8d7b-b0cf-4efa-cb20-7473a184d557"
      },
      "source": [
        "dataset_bad[2]"
      ],
      "execution_count": null,
      "outputs": [
        {
          "output_type": "execute_result",
          "data": {
            "text/plain": [
              "['000008.png', array([[[13, 13, 13],\n",
              "         [13, 13, 13],\n",
              "         [14, 14, 14],\n",
              "         ...,\n",
              "         [17, 17, 17],\n",
              "         [18, 18, 18],\n",
              "         [18, 18, 18]],\n",
              " \n",
              "        [[13, 13, 13],\n",
              "         [12, 12, 12],\n",
              "         [14, 14, 14],\n",
              "         ...,\n",
              "         [17, 17, 17],\n",
              "         [18, 18, 18],\n",
              "         [18, 18, 18]],\n",
              " \n",
              "        [[12, 12, 12],\n",
              "         [13, 13, 13],\n",
              "         [13, 13, 13],\n",
              "         ...,\n",
              "         [18, 18, 18],\n",
              "         [18, 18, 18],\n",
              "         [18, 18, 18]],\n",
              " \n",
              "        ...,\n",
              " \n",
              "        [[13, 13, 13],\n",
              "         [12, 12, 12],\n",
              "         [14, 14, 14],\n",
              "         ...,\n",
              "         [17, 17, 17],\n",
              "         [18, 18, 18],\n",
              "         [18, 18, 18]],\n",
              " \n",
              "        [[12, 12, 12],\n",
              "         [13, 13, 13],\n",
              "         [14, 14, 14],\n",
              "         ...,\n",
              "         [18, 18, 18],\n",
              "         [18, 18, 18],\n",
              "         [18, 18, 18]],\n",
              " \n",
              "        [[12, 12, 12],\n",
              "         [13, 13, 13],\n",
              "         [14, 14, 14],\n",
              "         ...,\n",
              "         [17, 17, 17],\n",
              "         [18, 18, 18],\n",
              "         [18, 18, 18]]], dtype=uint8)]"
            ]
          },
          "metadata": {
            "tags": []
          },
          "execution_count": 59
        }
      ]
    },
    {
      "cell_type": "code",
      "metadata": {
        "id": "x4kEkUctzMLo"
      },
      "source": [
        "count_bad=len(dataset_bad)"
      ],
      "execution_count": null,
      "outputs": []
    },
    {
      "cell_type": "code",
      "metadata": {
        "colab": {
          "base_uri": "https://localhost:8080/"
        },
        "id": "I-CV3_whzSXo",
        "outputId": "4b47c2de-2b55-42af-b840-14a9a6ef867b"
      },
      "source": [
        "count_bad"
      ],
      "execution_count": null,
      "outputs": [
        {
          "output_type": "execute_result",
          "data": {
            "text/plain": [
              "612"
            ]
          },
          "metadata": {
            "tags": []
          },
          "execution_count": 7
        }
      ]
    },
    {
      "cell_type": "code",
      "metadata": {
        "id": "RlZuOp9-aEBE"
      },
      "source": [
        "dataset_good = [] \n",
        "for i in df_array :\n",
        "  if i[1]== 0:\n",
        "\n",
        "\n",
        "    for file in os.listdir(os.path.join(\"/content/drive/MyDrive/CV Hackathon/Training Data/Images Unzipped/Images\")):\n",
        "      if i[0]== file:\n",
        "      \n",
        "  \n",
        "        x = os.path.join(\"/content/drive/MyDrive/CV Hackathon/Training Data/Images Unzipped/Images\")\n",
        "\n",
        "        path = os.path.join(x, file)\n",
        "        img = cv2.imread(path)\n",
        "        resized_image = cv2.resize(img, (512,125)) \n",
        "        dataset_good.append([file,resized_image])   \n",
        "  \n",
        "       "
      ],
      "execution_count": null,
      "outputs": []
    },
    {
      "cell_type": "code",
      "metadata": {
        "id": "dOgPUi6XbUxH"
      },
      "source": [
        "file_path = '/content/drive/MyDrive/CV Hackathon/Training Data/Labels/Train_DefectBoxes_PrithviAI.csv'\n",
        "df_boundingbox = pd.read_csv(file_path)\n",
        "df_boundingbox_array=df_boundingbox.to_numpy()"
      ],
      "execution_count": null,
      "outputs": []
    },
    {
      "cell_type": "code",
      "metadata": {
        "colab": {
          "base_uri": "https://localhost:8080/",
          "height": 417
        },
        "id": "Mt_BhyAOrqt_",
        "outputId": "fe1a2b14-043d-4a11-d8ab-59b50b9d55af"
      },
      "source": [
        "df_boundingbox"
      ],
      "execution_count": null,
      "outputs": [
        {
          "output_type": "execute_result",
          "data": {
            "text/html": [
              "<div>\n",
              "<style scoped>\n",
              "    .dataframe tbody tr th:only-of-type {\n",
              "        vertical-align: middle;\n",
              "    }\n",
              "\n",
              "    .dataframe tbody tr th {\n",
              "        vertical-align: top;\n",
              "    }\n",
              "\n",
              "    .dataframe thead th {\n",
              "        text-align: right;\n",
              "    }\n",
              "</style>\n",
              "<table border=\"1\" class=\"dataframe\">\n",
              "  <thead>\n",
              "    <tr style=\"text-align: right;\">\n",
              "      <th></th>\n",
              "      <th>image_id</th>\n",
              "      <th>X</th>\n",
              "      <th>Y</th>\n",
              "      <th>W</th>\n",
              "      <th>H</th>\n",
              "    </tr>\n",
              "  </thead>\n",
              "  <tbody>\n",
              "    <tr>\n",
              "      <th>0</th>\n",
              "      <td>000003.png</td>\n",
              "      <td>0.471313</td>\n",
              "      <td>0.7165</td>\n",
              "      <td>0.776611</td>\n",
              "      <td>0.267</td>\n",
              "    </tr>\n",
              "    <tr>\n",
              "      <th>1</th>\n",
              "      <td>000005.png</td>\n",
              "      <td>0.512085</td>\n",
              "      <td>0.5600</td>\n",
              "      <td>0.665771</td>\n",
              "      <td>0.234</td>\n",
              "    </tr>\n",
              "    <tr>\n",
              "      <th>2</th>\n",
              "      <td>000008.png</td>\n",
              "      <td>0.493286</td>\n",
              "      <td>0.7330</td>\n",
              "      <td>0.732666</td>\n",
              "      <td>0.220</td>\n",
              "    </tr>\n",
              "    <tr>\n",
              "      <th>3</th>\n",
              "      <td>000010.png</td>\n",
              "      <td>0.505615</td>\n",
              "      <td>0.0900</td>\n",
              "      <td>0.682129</td>\n",
              "      <td>0.134</td>\n",
              "    </tr>\n",
              "    <tr>\n",
              "      <th>4</th>\n",
              "      <td>000013.png</td>\n",
              "      <td>0.474609</td>\n",
              "      <td>0.5435</td>\n",
              "      <td>0.760254</td>\n",
              "      <td>0.253</td>\n",
              "    </tr>\n",
              "    <tr>\n",
              "      <th>...</th>\n",
              "      <td>...</td>\n",
              "      <td>...</td>\n",
              "      <td>...</td>\n",
              "      <td>...</td>\n",
              "      <td>...</td>\n",
              "    </tr>\n",
              "    <tr>\n",
              "      <th>1191</th>\n",
              "      <td>img_97.jpg</td>\n",
              "      <td>0.485352</td>\n",
              "      <td>0.6905</td>\n",
              "      <td>0.593750</td>\n",
              "      <td>0.231</td>\n",
              "    </tr>\n",
              "    <tr>\n",
              "      <th>1192</th>\n",
              "      <td>img_979.jpg</td>\n",
              "      <td>0.513672</td>\n",
              "      <td>0.9280</td>\n",
              "      <td>0.585938</td>\n",
              "      <td>0.144</td>\n",
              "    </tr>\n",
              "    <tr>\n",
              "      <th>1193</th>\n",
              "      <td>img_985.jpg</td>\n",
              "      <td>0.407471</td>\n",
              "      <td>0.2490</td>\n",
              "      <td>0.440918</td>\n",
              "      <td>0.250</td>\n",
              "    </tr>\n",
              "    <tr>\n",
              "      <th>1194</th>\n",
              "      <td>img_985.jpg</td>\n",
              "      <td>0.756958</td>\n",
              "      <td>0.2000</td>\n",
              "      <td>0.175537</td>\n",
              "      <td>0.200</td>\n",
              "    </tr>\n",
              "    <tr>\n",
              "      <th>1195</th>\n",
              "      <td>img_990.jpg</td>\n",
              "      <td>0.520386</td>\n",
              "      <td>0.6245</td>\n",
              "      <td>0.663818</td>\n",
              "      <td>0.175</td>\n",
              "    </tr>\n",
              "  </tbody>\n",
              "</table>\n",
              "<p>1196 rows × 5 columns</p>\n",
              "</div>"
            ],
            "text/plain": [
              "         image_id         X       Y         W      H\n",
              "0      000003.png  0.471313  0.7165  0.776611  0.267\n",
              "1      000005.png  0.512085  0.5600  0.665771  0.234\n",
              "2      000008.png  0.493286  0.7330  0.732666  0.220\n",
              "3      000010.png  0.505615  0.0900  0.682129  0.134\n",
              "4      000013.png  0.474609  0.5435  0.760254  0.253\n",
              "...           ...       ...     ...       ...    ...\n",
              "1191   img_97.jpg  0.485352  0.6905  0.593750  0.231\n",
              "1192  img_979.jpg  0.513672  0.9280  0.585938  0.144\n",
              "1193  img_985.jpg  0.407471  0.2490  0.440918  0.250\n",
              "1194  img_985.jpg  0.756958  0.2000  0.175537  0.200\n",
              "1195  img_990.jpg  0.520386  0.6245  0.663818  0.175\n",
              "\n",
              "[1196 rows x 5 columns]"
            ]
          },
          "metadata": {
            "tags": []
          },
          "execution_count": 9
        }
      ]
    },
    {
      "cell_type": "code",
      "metadata": {
        "colab": {
          "base_uri": "https://localhost:8080/"
        },
        "id": "7dfjBIMgru9r",
        "outputId": "a1be0d35-5967-4be8-b5fe-ccb9ca4d7d60"
      },
      "source": [
        "df_boundingbox_array"
      ],
      "execution_count": null,
      "outputs": [
        {
          "output_type": "execute_result",
          "data": {
            "text/plain": [
              "array([['000003.png', 0.47131300000000004, 0.7165, 0.7766109999999999,\n",
              "        0.267],\n",
              "       ['000005.png', 0.512085, 0.56, 0.665771, 0.23399999999999999],\n",
              "       ['000008.png', 0.49328599999999995, 0.733, 0.732666, 0.22],\n",
              "       ...,\n",
              "       ['img_985.jpg', 0.407471, 0.249, 0.44091800000000003, 0.25],\n",
              "       ['img_985.jpg', 0.756958, 0.2, 0.175537, 0.2],\n",
              "       ['img_990.jpg', 0.520386, 0.6245, 0.663818, 0.175]], dtype=object)"
            ]
          },
          "metadata": {
            "tags": []
          },
          "execution_count": 35
        }
      ]
    },
    {
      "cell_type": "code",
      "metadata": {
        "id": "C3THoB2icvXi"
      },
      "source": [
        "df_boundingbox_array_duplicate=df_boundingbox_array"
      ],
      "execution_count": null,
      "outputs": []
    },
    {
      "cell_type": "code",
      "metadata": {
        "id": "YA0xQjCnppGw"
      },
      "source": [
        "boundingbox_list=df_boundingbox_array.tolist()"
      ],
      "execution_count": null,
      "outputs": []
    },
    {
      "cell_type": "code",
      "metadata": {
        "id": "Yn1uoGxVqL8V"
      },
      "source": [
        "boundingbox_list"
      ],
      "execution_count": null,
      "outputs": []
    },
    {
      "cell_type": "code",
      "metadata": {
        "id": "wQ2BTYBwcQ7P"
      },
      "source": [
        "imagedata_boundingbox=[]\n",
        "\n",
        "x_coordinate=[]\n",
        "y_coordinate=[]\n",
        "w=[]\n",
        "h=[]\n",
        "coordinates_boundingbox=[]\n",
        "for i in boundingbox_list:\n",
        "  for j in dataset_bad:\n",
        "    if i[0]==j[0]:\n",
        "      imagedata_boundingbox.append(j[1])\n",
        "      coordinates_boundingbox.append(i[1:5])\n",
        "     \n",
        "      x_coordinate.append(i[1])\n",
        "      y_coordinate.append(i[2])\n",
        "      w.append(i[3])\n",
        "      h.append(i[4])\n",
        "\n",
        "\n",
        "      "
      ],
      "execution_count": null,
      "outputs": []
    },
    {
      "cell_type": "code",
      "metadata": {
        "id": "rwsV8F8Kq-ea",
        "colab": {
          "base_uri": "https://localhost:8080/"
        },
        "outputId": "79014c0e-c002-4f23-e78e-ddf92aaf81ba"
      },
      "source": [
        "boundingbox_list[0]"
      ],
      "execution_count": null,
      "outputs": [
        {
          "output_type": "execute_result",
          "data": {
            "text/plain": [
              "['000003.png',\n",
              " 0.47131300000000004,\n",
              " 0.7165,\n",
              " 0.7766109999999999,\n",
              " 0.267,\n",
              " array([[[13, 13, 13],\n",
              "         [12, 12, 12],\n",
              "         [14, 14, 14],\n",
              "         ...,\n",
              "         [18, 18, 18],\n",
              "         [17, 17, 17],\n",
              "         [19, 19, 19]],\n",
              " \n",
              "        [[12, 12, 12],\n",
              "         [12, 12, 12],\n",
              "         [13, 13, 13],\n",
              "         ...,\n",
              "         [17, 17, 17],\n",
              "         [18, 18, 18],\n",
              "         [18, 18, 18]],\n",
              " \n",
              "        [[13, 13, 13],\n",
              "         [13, 13, 13],\n",
              "         [13, 13, 13],\n",
              "         ...,\n",
              "         [17, 17, 17],\n",
              "         [18, 18, 18],\n",
              "         [19, 19, 19]],\n",
              " \n",
              "        ...,\n",
              " \n",
              "        [[12, 12, 12],\n",
              "         [12, 12, 12],\n",
              "         [14, 14, 14],\n",
              "         ...,\n",
              "         [17, 17, 17],\n",
              "         [17, 17, 17],\n",
              "         [18, 18, 18]],\n",
              " \n",
              "        [[13, 13, 13],\n",
              "         [13, 13, 13],\n",
              "         [13, 13, 13],\n",
              "         ...,\n",
              "         [17, 17, 17],\n",
              "         [17, 17, 17],\n",
              "         [18, 18, 18]],\n",
              " \n",
              "        [[13, 13, 13],\n",
              "         [13, 13, 13],\n",
              "         [14, 14, 14],\n",
              "         ...,\n",
              "         [17, 17, 17],\n",
              "         [18, 18, 18],\n",
              "         [18, 18, 18]]], dtype=uint8),\n",
              " array([[[13, 13, 13],\n",
              "         [12, 12, 12],\n",
              "         [14, 14, 14],\n",
              "         ...,\n",
              "         [18, 18, 18],\n",
              "         [17, 17, 17],\n",
              "         [19, 19, 19]],\n",
              " \n",
              "        [[12, 12, 12],\n",
              "         [12, 12, 12],\n",
              "         [13, 13, 13],\n",
              "         ...,\n",
              "         [17, 17, 17],\n",
              "         [18, 18, 18],\n",
              "         [18, 18, 18]],\n",
              " \n",
              "        [[13, 13, 13],\n",
              "         [13, 13, 13],\n",
              "         [13, 13, 13],\n",
              "         ...,\n",
              "         [17, 17, 17],\n",
              "         [18, 18, 18],\n",
              "         [19, 19, 19]],\n",
              " \n",
              "        ...,\n",
              " \n",
              "        [[12, 12, 12],\n",
              "         [12, 12, 12],\n",
              "         [14, 14, 14],\n",
              "         ...,\n",
              "         [17, 17, 17],\n",
              "         [17, 17, 17],\n",
              "         [18, 18, 18]],\n",
              " \n",
              "        [[13, 13, 13],\n",
              "         [13, 13, 13],\n",
              "         [13, 13, 13],\n",
              "         ...,\n",
              "         [17, 17, 17],\n",
              "         [17, 17, 17],\n",
              "         [18, 18, 18]],\n",
              " \n",
              "        [[13, 13, 13],\n",
              "         [13, 13, 13],\n",
              "         [14, 14, 14],\n",
              "         ...,\n",
              "         [17, 17, 17],\n",
              "         [18, 18, 18],\n",
              "         [18, 18, 18]]], dtype=uint8)]"
            ]
          },
          "metadata": {
            "tags": []
          },
          "execution_count": 33
        }
      ]
    },
    {
      "cell_type": "code",
      "metadata": {
        "colab": {
          "base_uri": "https://localhost:8080/"
        },
        "id": "Cycx8m0yy3sN",
        "outputId": "f70203ff-e9c2-4893-a280-69d71d1cb145"
      },
      "source": [
        ""
      ],
      "execution_count": null,
      "outputs": [
        {
          "output_type": "execute_result",
          "data": {
            "text/plain": [
              "2658"
            ]
          },
          "metadata": {
            "tags": []
          },
          "execution_count": 16
        }
      ]
    },
    {
      "cell_type": "code",
      "metadata": {
        "id": "LsE5otXwyCbZ"
      },
      "source": [
        "counter=0\n",
        "\n",
        "good_data=[]\n",
        "for i in dataset_good:\n",
        "  \n",
        "  \n",
        "  while counter < int(count_bad) :\n",
        "      good_data.append([i[1],0])\n",
        "      counter=counter+1\n",
        "    "
      ],
      "execution_count": null,
      "outputs": []
    },
    {
      "cell_type": "code",
      "metadata": {
        "colab": {
          "base_uri": "https://localhost:8080/"
        },
        "id": "8dO4y1jWrYr-",
        "outputId": "2836372f-2b15-4349-c0eb-8f84f31a5c89"
      },
      "source": [
        "len(good_data)"
      ],
      "execution_count": null,
      "outputs": [
        {
          "output_type": "execute_result",
          "data": {
            "text/plain": [
              "612"
            ]
          },
          "metadata": {
            "tags": []
          },
          "execution_count": 62
        }
      ]
    },
    {
      "cell_type": "code",
      "metadata": {
        "id": "yqSYMungz76h"
      },
      "source": [
        "test_good_data=[]\n",
        "for i in dataset_good[613:]:\n",
        "  test_good_data.append([i[1],0])"
      ],
      "execution_count": null,
      "outputs": []
    },
    {
      "cell_type": "code",
      "metadata": {
        "id": "UVs_IK0f2uY7",
        "colab": {
          "base_uri": "https://localhost:8080/"
        },
        "outputId": "58a3b000-70c4-42d1-81bc-f92b391c2175"
      },
      "source": [
        "good_data[0]"
      ],
      "execution_count": null,
      "outputs": [
        {
          "output_type": "execute_result",
          "data": {
            "text/plain": [
              "[array([[[13, 13, 13],\n",
              "         [13, 13, 13],\n",
              "         [14, 14, 14],\n",
              "         ...,\n",
              "         [18, 18, 18],\n",
              "         [18, 18, 18],\n",
              "         [17, 17, 17]],\n",
              " \n",
              "        [[13, 13, 13],\n",
              "         [12, 12, 12],\n",
              "         [14, 14, 14],\n",
              "         ...,\n",
              "         [17, 17, 17],\n",
              "         [17, 17, 17],\n",
              "         [18, 18, 18]],\n",
              " \n",
              "        [[13, 13, 13],\n",
              "         [12, 12, 12],\n",
              "         [14, 14, 14],\n",
              "         ...,\n",
              "         [18, 18, 18],\n",
              "         [18, 18, 18],\n",
              "         [18, 18, 18]],\n",
              " \n",
              "        ...,\n",
              " \n",
              "        [[12, 12, 12],\n",
              "         [13, 13, 13],\n",
              "         [13, 13, 13],\n",
              "         ...,\n",
              "         [18, 18, 18],\n",
              "         [18, 18, 18],\n",
              "         [18, 18, 18]],\n",
              " \n",
              "        [[13, 13, 13],\n",
              "         [12, 12, 12],\n",
              "         [13, 13, 13],\n",
              "         ...,\n",
              "         [17, 17, 17],\n",
              "         [18, 18, 18],\n",
              "         [18, 18, 18]],\n",
              " \n",
              "        [[13, 13, 13],\n",
              "         [12, 12, 12],\n",
              "         [14, 14, 14],\n",
              "         ...,\n",
              "         [18, 18, 18],\n",
              "         [18, 18, 18],\n",
              "         [18, 18, 18]]], dtype=uint8), 0]"
            ]
          },
          "metadata": {
            "tags": []
          },
          "execution_count": 64
        }
      ]
    },
    {
      "cell_type": "code",
      "metadata": {
        "id": "ZyfXfEUz0eH5"
      },
      "source": [
        "bad_data=[]\n",
        "for i in dataset_bad:\n",
        "  bad_data.append([i[1],1])"
      ],
      "execution_count": null,
      "outputs": []
    },
    {
      "cell_type": "code",
      "metadata": {
        "colab": {
          "base_uri": "https://localhost:8080/"
        },
        "id": "spLWk9Zs3Jx5",
        "outputId": "4b3aec84-537d-4f09-b16d-14472e440d11"
      },
      "source": [
        "bad_data[0]"
      ],
      "execution_count": null,
      "outputs": [
        {
          "output_type": "execute_result",
          "data": {
            "text/plain": [
              "[array([[[13, 13, 13],\n",
              "         [12, 12, 12],\n",
              "         [14, 14, 14],\n",
              "         ...,\n",
              "         [18, 18, 18],\n",
              "         [17, 17, 17],\n",
              "         [19, 19, 19]],\n",
              " \n",
              "        [[12, 12, 12],\n",
              "         [12, 12, 12],\n",
              "         [13, 13, 13],\n",
              "         ...,\n",
              "         [17, 17, 17],\n",
              "         [18, 18, 18],\n",
              "         [18, 18, 18]],\n",
              " \n",
              "        [[13, 13, 13],\n",
              "         [13, 13, 13],\n",
              "         [13, 13, 13],\n",
              "         ...,\n",
              "         [17, 17, 17],\n",
              "         [18, 18, 18],\n",
              "         [19, 19, 19]],\n",
              " \n",
              "        ...,\n",
              " \n",
              "        [[12, 12, 12],\n",
              "         [12, 12, 12],\n",
              "         [14, 14, 14],\n",
              "         ...,\n",
              "         [17, 17, 17],\n",
              "         [17, 17, 17],\n",
              "         [18, 18, 18]],\n",
              " \n",
              "        [[13, 13, 13],\n",
              "         [13, 13, 13],\n",
              "         [13, 13, 13],\n",
              "         ...,\n",
              "         [17, 17, 17],\n",
              "         [17, 17, 17],\n",
              "         [18, 18, 18]],\n",
              " \n",
              "        [[13, 13, 13],\n",
              "         [13, 13, 13],\n",
              "         [14, 14, 14],\n",
              "         ...,\n",
              "         [17, 17, 17],\n",
              "         [18, 18, 18],\n",
              "         [18, 18, 18]]], dtype=uint8), 1]"
            ]
          },
          "metadata": {
            "tags": []
          },
          "execution_count": 66
        }
      ]
    },
    {
      "cell_type": "code",
      "metadata": {
        "colab": {
          "base_uri": "https://localhost:8080/"
        },
        "id": "_29TSFxV4aCg",
        "outputId": "268d662c-b0d1-4bcc-f74e-d53029a3784e"
      },
      "source": [
        "good_data[0]"
      ],
      "execution_count": null,
      "outputs": [
        {
          "output_type": "execute_result",
          "data": {
            "text/plain": [
              "[array([[[13, 13, 13],\n",
              "         [13, 13, 13],\n",
              "         [14, 14, 14],\n",
              "         ...,\n",
              "         [18, 18, 18],\n",
              "         [18, 18, 18],\n",
              "         [17, 17, 17]],\n",
              " \n",
              "        [[13, 13, 13],\n",
              "         [12, 12, 12],\n",
              "         [14, 14, 14],\n",
              "         ...,\n",
              "         [17, 17, 17],\n",
              "         [17, 17, 17],\n",
              "         [18, 18, 18]],\n",
              " \n",
              "        [[13, 13, 13],\n",
              "         [12, 12, 12],\n",
              "         [14, 14, 14],\n",
              "         ...,\n",
              "         [18, 18, 18],\n",
              "         [18, 18, 18],\n",
              "         [18, 18, 18]],\n",
              " \n",
              "        ...,\n",
              " \n",
              "        [[12, 12, 12],\n",
              "         [13, 13, 13],\n",
              "         [13, 13, 13],\n",
              "         ...,\n",
              "         [18, 18, 18],\n",
              "         [18, 18, 18],\n",
              "         [18, 18, 18]],\n",
              " \n",
              "        [[13, 13, 13],\n",
              "         [12, 12, 12],\n",
              "         [13, 13, 13],\n",
              "         ...,\n",
              "         [17, 17, 17],\n",
              "         [18, 18, 18],\n",
              "         [18, 18, 18]],\n",
              " \n",
              "        [[13, 13, 13],\n",
              "         [12, 12, 12],\n",
              "         [14, 14, 14],\n",
              "         ...,\n",
              "         [18, 18, 18],\n",
              "         [18, 18, 18],\n",
              "         [18, 18, 18]]], dtype=uint8), 0]"
            ]
          },
          "metadata": {
            "tags": []
          },
          "execution_count": 67
        }
      ]
    },
    {
      "cell_type": "code",
      "metadata": {
        "id": "F-boBHhC0zpa"
      },
      "source": [
        "final_dataset=good_data+bad_data\n"
      ],
      "execution_count": null,
      "outputs": []
    },
    {
      "cell_type": "code",
      "metadata": {
        "id": "gOdb6E3E2LaT",
        "colab": {
          "base_uri": "https://localhost:8080/"
        },
        "outputId": "3f96f4d2-8be0-4519-a6a8-32ebb4c515f9"
      },
      "source": [
        "final_dataset[0]"
      ],
      "execution_count": null,
      "outputs": [
        {
          "output_type": "execute_result",
          "data": {
            "text/plain": [
              "[array([[[13, 13, 13],\n",
              "         [13, 13, 13],\n",
              "         [14, 14, 14],\n",
              "         ...,\n",
              "         [18, 18, 18],\n",
              "         [18, 18, 18],\n",
              "         [17, 17, 17]],\n",
              " \n",
              "        [[13, 13, 13],\n",
              "         [12, 12, 12],\n",
              "         [14, 14, 14],\n",
              "         ...,\n",
              "         [17, 17, 17],\n",
              "         [17, 17, 17],\n",
              "         [18, 18, 18]],\n",
              " \n",
              "        [[13, 13, 13],\n",
              "         [12, 12, 12],\n",
              "         [14, 14, 14],\n",
              "         ...,\n",
              "         [18, 18, 18],\n",
              "         [18, 18, 18],\n",
              "         [18, 18, 18]],\n",
              " \n",
              "        ...,\n",
              " \n",
              "        [[12, 12, 12],\n",
              "         [13, 13, 13],\n",
              "         [13, 13, 13],\n",
              "         ...,\n",
              "         [18, 18, 18],\n",
              "         [18, 18, 18],\n",
              "         [18, 18, 18]],\n",
              " \n",
              "        [[13, 13, 13],\n",
              "         [12, 12, 12],\n",
              "         [13, 13, 13],\n",
              "         ...,\n",
              "         [17, 17, 17],\n",
              "         [18, 18, 18],\n",
              "         [18, 18, 18]],\n",
              " \n",
              "        [[13, 13, 13],\n",
              "         [12, 12, 12],\n",
              "         [14, 14, 14],\n",
              "         ...,\n",
              "         [18, 18, 18],\n",
              "         [18, 18, 18],\n",
              "         [18, 18, 18]]], dtype=uint8), 0]"
            ]
          },
          "metadata": {
            "tags": []
          },
          "execution_count": 69
        }
      ]
    },
    {
      "cell_type": "code",
      "metadata": {
        "id": "RFeLilDd2ajs",
        "colab": {
          "base_uri": "https://localhost:8080/"
        },
        "outputId": "374e0021-989b-4ed5-c64c-4c41bb9ed2bd"
      },
      "source": [
        "final_dataset[0]"
      ],
      "execution_count": null,
      "outputs": [
        {
          "output_type": "execute_result",
          "data": {
            "text/plain": [
              "[array([[[13, 13, 13],\n",
              "         [13, 13, 13],\n",
              "         [14, 14, 14],\n",
              "         ...,\n",
              "         [18, 18, 18],\n",
              "         [18, 18, 18],\n",
              "         [17, 17, 17]],\n",
              " \n",
              "        [[13, 13, 13],\n",
              "         [12, 12, 12],\n",
              "         [14, 14, 14],\n",
              "         ...,\n",
              "         [17, 17, 17],\n",
              "         [17, 17, 17],\n",
              "         [18, 18, 18]],\n",
              " \n",
              "        [[13, 13, 13],\n",
              "         [12, 12, 12],\n",
              "         [14, 14, 14],\n",
              "         ...,\n",
              "         [18, 18, 18],\n",
              "         [18, 18, 18],\n",
              "         [18, 18, 18]],\n",
              " \n",
              "        ...,\n",
              " \n",
              "        [[12, 12, 12],\n",
              "         [13, 13, 13],\n",
              "         [13, 13, 13],\n",
              "         ...,\n",
              "         [18, 18, 18],\n",
              "         [18, 18, 18],\n",
              "         [18, 18, 18]],\n",
              " \n",
              "        [[13, 13, 13],\n",
              "         [12, 12, 12],\n",
              "         [13, 13, 13],\n",
              "         ...,\n",
              "         [17, 17, 17],\n",
              "         [18, 18, 18],\n",
              "         [18, 18, 18]],\n",
              " \n",
              "        [[13, 13, 13],\n",
              "         [12, 12, 12],\n",
              "         [14, 14, 14],\n",
              "         ...,\n",
              "         [18, 18, 18],\n",
              "         [18, 18, 18],\n",
              "         [18, 18, 18]]], dtype=uint8), 0]"
            ]
          },
          "metadata": {
            "tags": []
          },
          "execution_count": 70
        }
      ]
    },
    {
      "cell_type": "code",
      "metadata": {
        "id": "zRm0gpEh1amD"
      },
      "source": [
        "import random\n",
        "random.shuffle(final_dataset)"
      ],
      "execution_count": null,
      "outputs": []
    },
    {
      "cell_type": "code",
      "metadata": {
        "id": "-f-QTho61hLT"
      },
      "source": [
        "image_data=[]\n",
        "label=[]\n",
        "for i  in final_dataset:\n",
        "  image_data.append(i[0])\n",
        "  label.append(i[1])\n"
      ],
      "execution_count": null,
      "outputs": []
    },
    {
      "cell_type": "code",
      "metadata": {
        "id": "PmgmnXmI2lZ9"
      },
      "source": [
        ""
      ],
      "execution_count": null,
      "outputs": []
    },
    {
      "cell_type": "code",
      "metadata": {
        "id": "0DXdClx212tk"
      },
      "source": [
        "imagedata = np.array(image_data)\n",
        "imagedata= imagedata/255"
      ],
      "execution_count": null,
      "outputs": []
    },
    {
      "cell_type": "code",
      "metadata": {
        "colab": {
          "base_uri": "https://localhost:8080/"
        },
        "id": "wTJ6TCHq3AwL",
        "outputId": "f06c96e3-2626-49bc-ea9a-0b12faa9f79a"
      },
      "source": [
        "imagedata[0]"
      ],
      "execution_count": null,
      "outputs": [
        {
          "output_type": "execute_result",
          "data": {
            "text/plain": [
              "array([[[0.18431373, 0.18431373, 0.18431373],\n",
              "        [0.18431373, 0.18431373, 0.18431373],\n",
              "        [0.20392157, 0.20392157, 0.20392157],\n",
              "        ...,\n",
              "        [0.07058824, 0.07058824, 0.07058824],\n",
              "        [0.07058824, 0.07058824, 0.07058824],\n",
              "        [0.0745098 , 0.0745098 , 0.0745098 ]],\n",
              "\n",
              "       [[0.18039216, 0.18039216, 0.18039216],\n",
              "        [0.18823529, 0.18823529, 0.18823529],\n",
              "        [0.2       , 0.2       , 0.2       ],\n",
              "        ...,\n",
              "        [0.07058824, 0.07058824, 0.07058824],\n",
              "        [0.07058824, 0.07058824, 0.07058824],\n",
              "        [0.07058824, 0.07058824, 0.07058824]],\n",
              "\n",
              "       [[0.17647059, 0.17647059, 0.17647059],\n",
              "        [0.18823529, 0.18823529, 0.18823529],\n",
              "        [0.19607843, 0.19607843, 0.19607843],\n",
              "        ...,\n",
              "        [0.07058824, 0.07058824, 0.07058824],\n",
              "        [0.0745098 , 0.0745098 , 0.0745098 ],\n",
              "        [0.07058824, 0.07058824, 0.07058824]],\n",
              "\n",
              "       ...,\n",
              "\n",
              "       [[0.18823529, 0.18823529, 0.18823529],\n",
              "        [0.18431373, 0.18431373, 0.18431373],\n",
              "        [0.19607843, 0.19607843, 0.19607843],\n",
              "        ...,\n",
              "        [0.0745098 , 0.0745098 , 0.0745098 ],\n",
              "        [0.07058824, 0.07058824, 0.07058824],\n",
              "        [0.07058824, 0.07058824, 0.07058824]],\n",
              "\n",
              "       [[0.18431373, 0.18431373, 0.18431373],\n",
              "        [0.18823529, 0.18823529, 0.18823529],\n",
              "        [0.20392157, 0.20392157, 0.20392157],\n",
              "        ...,\n",
              "        [0.07058824, 0.07058824, 0.07058824],\n",
              "        [0.0745098 , 0.0745098 , 0.0745098 ],\n",
              "        [0.0745098 , 0.0745098 , 0.0745098 ]],\n",
              "\n",
              "       [[0.18039216, 0.18039216, 0.18039216],\n",
              "        [0.18039216, 0.18039216, 0.18039216],\n",
              "        [0.20392157, 0.20392157, 0.20392157],\n",
              "        ...,\n",
              "        [0.07058824, 0.07058824, 0.07058824],\n",
              "        [0.0745098 , 0.0745098 , 0.0745098 ],\n",
              "        [0.0745098 , 0.0745098 , 0.0745098 ]]])"
            ]
          },
          "metadata": {
            "tags": []
          },
          "execution_count": 74
        }
      ]
    },
    {
      "cell_type": "code",
      "metadata": {
        "colab": {
          "base_uri": "https://localhost:8080/"
        },
        "id": "psZ93eMx5euM",
        "outputId": "1bdc5f52-2fbd-4f1e-9035-f3e3523822db"
      },
      "source": [
        "imagedata.shape"
      ],
      "execution_count": null,
      "outputs": [
        {
          "output_type": "execute_result",
          "data": {
            "text/plain": [
              "(1224, 125, 512, 3)"
            ]
          },
          "metadata": {
            "tags": []
          },
          "execution_count": 75
        }
      ]
    },
    {
      "cell_type": "code",
      "metadata": {
        "colab": {
          "base_uri": "https://localhost:8080/"
        },
        "id": "mDpfNeCX5k-5",
        "outputId": "51eb35c2-d024-4e9a-9d0e-464f6df62c86"
      },
      "source": [
        "label[0]"
      ],
      "execution_count": null,
      "outputs": [
        {
          "output_type": "execute_result",
          "data": {
            "text/plain": [
              "1"
            ]
          },
          "metadata": {
            "tags": []
          },
          "execution_count": 76
        }
      ]
    },
    {
      "cell_type": "code",
      "metadata": {
        "id": "igePAJgf59xO"
      },
      "source": [
        "label_array=np.array(label)"
      ],
      "execution_count": null,
      "outputs": []
    },
    {
      "cell_type": "code",
      "metadata": {
        "id": "0p04aDEo3sYo"
      },
      "source": [
        "x_train, x_test, y_train, y_test = train_test_split(imagedata,label_array, test_size = 0.20)"
      ],
      "execution_count": null,
      "outputs": []
    },
    {
      "cell_type": "code",
      "metadata": {
        "colab": {
          "base_uri": "https://localhost:8080/"
        },
        "id": "5ODk2e3m47rE",
        "outputId": "eef0c649-f975-48b9-a5ae-17c503df3d92"
      },
      "source": [
        "y_train[1]"
      ],
      "execution_count": null,
      "outputs": [
        {
          "output_type": "execute_result",
          "data": {
            "text/plain": [
              "0"
            ]
          },
          "metadata": {
            "tags": []
          },
          "execution_count": 79
        }
      ]
    },
    {
      "cell_type": "code",
      "metadata": {
        "id": "tuG6vLrE35TE"
      },
      "source": [
        "cnn_classifier = models.Sequential()\n",
        "cnn_classifier.add(layers.Conv2D(32, (3, 3), activation='relu', input_shape=(125,512, 3)))\n",
        "cnn_classifier.add(layers.MaxPooling2D((2, 2)))\n",
        "cnn_classifier.add(layers.Conv2D(64, (3, 3), activation='relu'))\n",
        "cnn_classifier.add(layers.MaxPooling2D((2, 2)))\n",
        "cnn_classifier.add(layers.Conv2D(64, (3, 3), activation='relu'))\n",
        "cnn_classifier.add(layers.Flatten())\n",
        "cnn_classifier.add(Dropout(0.2))\n",
        "cnn_classifier.add(layers.Dense(64, activation='relu'))\n",
        "cnn_classifier.add(layers.Dense(10))\n",
        "cnn_classifier.add(layers.Dense(5))\n",
        "cnn_classifier.add(layers.Dense(2,activation='sigmoid'))"
      ],
      "execution_count": null,
      "outputs": []
    },
    {
      "cell_type": "code",
      "metadata": {
        "colab": {
          "base_uri": "https://localhost:8080/"
        },
        "id": "5HLmcBVd3_RR",
        "outputId": "41778131-7023-4d88-e8c8-499dbcec418b"
      },
      "source": [
        "cnn_classifier.compile(optimizer='adam', loss=tf.keras.losses.SparseCategoricalCrossentropy(from_logits=True), metrics=['accuracy'])\n",
        "history = cnn_classifier.fit(x_train , y_train, epochs = 6)"
      ],
      "execution_count": null,
      "outputs": [
        {
          "output_type": "stream",
          "text": [
            "Epoch 1/6\n"
          ],
          "name": "stdout"
        },
        {
          "output_type": "stream",
          "text": [
            "/usr/local/lib/python3.7/dist-packages/keras/backend.py:4907: UserWarning: \"`sparse_categorical_crossentropy` received `from_logits=True`, but the `output` argument was produced by a sigmoid or softmax activation and thus does not represent logits. Was this intended?\"\n",
            "  '\"`sparse_categorical_crossentropy` received `from_logits=True`, but '\n"
          ],
          "name": "stderr"
        },
        {
          "output_type": "stream",
          "text": [
            "31/31 [==============================] - 102s 3s/step - loss: 0.9097 - accuracy: 0.7835\n",
            "Epoch 2/6\n",
            "31/31 [==============================] - 101s 3s/step - loss: 0.0120 - accuracy: 0.9959\n",
            "Epoch 3/6\n",
            "31/31 [==============================] - 101s 3s/step - loss: 0.0086 - accuracy: 0.9980\n",
            "Epoch 4/6\n",
            "31/31 [==============================] - 100s 3s/step - loss: 3.7622e-04 - accuracy: 1.0000\n",
            "Epoch 5/6\n",
            "31/31 [==============================] - 99s 3s/step - loss: 1.3008e-04 - accuracy: 1.0000\n",
            "Epoch 6/6\n",
            "31/31 [==============================] - 99s 3s/step - loss: 7.5627e-05 - accuracy: 1.0000\n"
          ],
          "name": "stdout"
        }
      ]
    },
    {
      "cell_type": "code",
      "metadata": {
        "id": "mNUJ_O2y4CZr"
      },
      "source": [
        "y_predict = cnn_classifier.predict(x_test)\n",
        "predicted_class = [np.argmax(element) for element in y_predict]"
      ],
      "execution_count": null,
      "outputs": []
    },
    {
      "cell_type": "markdown",
      "metadata": {
        "id": "bhNzJ71v-Qx5"
      },
      "source": [
        ""
      ]
    },
    {
      "cell_type": "code",
      "metadata": {
        "id": "663CCmyc6SEg"
      },
      "source": [
        "listlabels=['good','bad']"
      ],
      "execution_count": null,
      "outputs": []
    },
    {
      "cell_type": "code",
      "metadata": {
        "colab": {
          "base_uri": "https://localhost:8080/",
          "height": 385
        },
        "id": "bfKncc3R6XGQ",
        "outputId": "b1f43823-e128-4f50-fa82-ce726e92ba71"
      },
      "source": [
        "cm = confusion_matrix(y_test,predicted_class)\n",
        "plt.figure(figsize=(6,6))\n",
        "sns.heatmap(cm, cbar=False, xticklabels=listlabels, yticklabels=listlabels, fmt='d', annot=True, cmap='Blues')\n",
        "plt.xlabel('Predicted')\n",
        "plt.ylabel('Actual')\n",
        "plt.show()"
      ],
      "execution_count": null,
      "outputs": [
        {
          "output_type": "display_data",
          "data": {
            "image/png": "[encoded data removed]",
            "text/plain": [
              "<Figure size 432x432 with 1 Axes>"
            ]
          },
          "metadata": {
            "tags": [],
            "needs_background": "light"
          }
        }
      ]
    },
    {
      "cell_type": "code",
      "metadata": {
        "colab": {
          "base_uri": "https://localhost:8080/"
        },
        "id": "vVrcb-hJYw6t",
        "outputId": "d5b81945-67a9-497f-fc85-6e1518e3eb3a"
      },
      "source": [
        "test_good_data[0]"
      ],
      "execution_count": null,
      "outputs": [
        {
          "output_type": "execute_result",
          "data": {
            "text/plain": [
              "[array([[[13, 13, 13],\n",
              "         [13, 13, 13],\n",
              "         [13, 13, 13],\n",
              "         ...,\n",
              "         [17, 17, 17],\n",
              "         [18, 18, 18],\n",
              "         [18, 18, 18]],\n",
              " \n",
              "        [[13, 13, 13],\n",
              "         [13, 13, 13],\n",
              "         [13, 13, 13],\n",
              "         ...,\n",
              "         [17, 17, 17],\n",
              "         [17, 17, 17],\n",
              "         [18, 18, 18]],\n",
              " \n",
              "        [[13, 13, 13],\n",
              "         [13, 13, 13],\n",
              "         [13, 13, 13],\n",
              "         ...,\n",
              "         [17, 17, 17],\n",
              "         [18, 18, 18],\n",
              "         [18, 18, 18]],\n",
              " \n",
              "        ...,\n",
              " \n",
              "        [[12, 12, 12],\n",
              "         [13, 13, 13],\n",
              "         [14, 14, 14],\n",
              "         ...,\n",
              "         [18, 18, 18],\n",
              "         [17, 17, 17],\n",
              "         [18, 18, 18]],\n",
              " \n",
              "        [[13, 13, 13],\n",
              "         [13, 13, 13],\n",
              "         [13, 13, 13],\n",
              "         ...,\n",
              "         [17, 17, 17],\n",
              "         [18, 18, 18],\n",
              "         [18, 18, 18]],\n",
              " \n",
              "        [[12, 12, 12],\n",
              "         [13, 13, 13],\n",
              "         [13, 13, 13],\n",
              "         ...,\n",
              "         [17, 17, 17],\n",
              "         [17, 17, 17],\n",
              "         [18, 18, 18]]], dtype=uint8), 0]"
            ]
          },
          "metadata": {
            "tags": []
          },
          "execution_count": 85
        }
      ]
    },
    {
      "cell_type": "code",
      "metadata": {
        "id": "EtjMCxyhZLo7"
      },
      "source": [
        "test_good_images=[]\n",
        "test_good_labels=[]\n",
        "for i in test_good_data:\n",
        "  test_good_images.append(i[0])\n",
        "  test_good_labels.append(i[1])\n"
      ],
      "execution_count": null,
      "outputs": []
    },
    {
      "cell_type": "code",
      "metadata": {
        "id": "APLMjeBCZe3-",
        "colab": {
          "base_uri": "https://localhost:8080/"
        },
        "outputId": "bcd04737-c87e-4f9f-ad73-70e2bd68d0b1"
      },
      "source": [
        "test_good_images[0]"
      ],
      "execution_count": null,
      "outputs": [
        {
          "output_type": "execute_result",
          "data": {
            "text/plain": [
              "array([[[13, 13, 13],\n",
              "        [13, 13, 13],\n",
              "        [13, 13, 13],\n",
              "        ...,\n",
              "        [17, 17, 17],\n",
              "        [18, 18, 18],\n",
              "        [18, 18, 18]],\n",
              "\n",
              "       [[13, 13, 13],\n",
              "        [13, 13, 13],\n",
              "        [13, 13, 13],\n",
              "        ...,\n",
              "        [17, 17, 17],\n",
              "        [17, 17, 17],\n",
              "        [18, 18, 18]],\n",
              "\n",
              "       [[13, 13, 13],\n",
              "        [13, 13, 13],\n",
              "        [13, 13, 13],\n",
              "        ...,\n",
              "        [17, 17, 17],\n",
              "        [18, 18, 18],\n",
              "        [18, 18, 18]],\n",
              "\n",
              "       ...,\n",
              "\n",
              "       [[12, 12, 12],\n",
              "        [13, 13, 13],\n",
              "        [14, 14, 14],\n",
              "        ...,\n",
              "        [18, 18, 18],\n",
              "        [17, 17, 17],\n",
              "        [18, 18, 18]],\n",
              "\n",
              "       [[13, 13, 13],\n",
              "        [13, 13, 13],\n",
              "        [13, 13, 13],\n",
              "        ...,\n",
              "        [17, 17, 17],\n",
              "        [18, 18, 18],\n",
              "        [18, 18, 18]],\n",
              "\n",
              "       [[12, 12, 12],\n",
              "        [13, 13, 13],\n",
              "        [13, 13, 13],\n",
              "        ...,\n",
              "        [17, 17, 17],\n",
              "        [17, 17, 17],\n",
              "        [18, 18, 18]]], dtype=uint8)"
            ]
          },
          "metadata": {
            "tags": []
          },
          "execution_count": 87
        }
      ]
    },
    {
      "cell_type": "code",
      "metadata": {
        "colab": {
          "base_uri": "https://localhost:8080/"
        },
        "id": "FjkzoBHJZlYN",
        "outputId": "fb9f53be-7fd9-4dcb-96b4-d8cc907c8816"
      },
      "source": [
        "test_good_labels[0]"
      ],
      "execution_count": null,
      "outputs": [
        {
          "output_type": "execute_result",
          "data": {
            "text/plain": [
              "0"
            ]
          },
          "metadata": {
            "tags": []
          },
          "execution_count": 88
        }
      ]
    },
    {
      "cell_type": "code",
      "metadata": {
        "id": "MG55en4DZplQ"
      },
      "source": [
        "test_good_ary=np.array(test_good_images)\n",
        "test_good_ary=test_good_ary/255"
      ],
      "execution_count": null,
      "outputs": []
    },
    {
      "cell_type": "code",
      "metadata": {
        "id": "xUrSDoIMZ9Yq"
      },
      "source": [
        "y_predict_good = cnn_classifier.predict(test_good_ary)\n",
        "predicted_class_good = [np.argmax(element) for element in y_predict_good]"
      ],
      "execution_count": null,
      "outputs": []
    },
    {
      "cell_type": "code",
      "metadata": {
        "id": "uFjnZFiyaNV5"
      },
      "source": [
        "cm = confusion_matrix(test_good_labels,predicted_class_good)\n",
        "plt.figure(figsize=(6,6))\n",
        "sns.heatmap(cm, cbar=False, xticklabels=listlabels, yticklabels=listlabels, fmt='d', annot=True, cmap='Blues')\n",
        "plt.xlabel('Predicted')\n",
        "plt.ylabel('Actual')\n",
        "plt.show()"
      ],
      "execution_count": null,
      "outputs": []
    },
    {
      "cell_type": "code",
      "metadata": {
        "id": "Zpea3HgRW4H9"
      },
      "source": [
        "# import the necessary packages\n",
        "#import config\n",
        "from tensorflow.keras.applications import VGG16\n",
        "from tensorflow.keras.layers import Flatten\n",
        "from tensorflow.keras.layers import Dense\n",
        "from tensorflow.keras.layers import Input\n",
        "from tensorflow.keras.models import Model\n",
        "from tensorflow.keras.optimizers import Adam\n",
        "from tensorflow.keras.preprocessing.image import img_to_array\n",
        "from tensorflow.keras.preprocessing.image import load_img\n",
        "from sklearn.model_selection import train_test_split\n",
        "import matplotlib.pyplot as plt\n",
        "import numpy as np\n",
        "import cv2\n",
        "import os"
      ],
      "execution_count": null,
      "outputs": []
    },
    {
      "cell_type": "code",
      "metadata": {
        "id": "zMnnRiszdU8H"
      },
      "source": [
        "# load the VGG16 network, ensuring the head FC layers are left off\n",
        "vgg = VGG16(weights = \"imagenet\", include_top=False, input_tensor=Input(shape=(125,512, 3)))\n",
        "\n",
        "# freeze all VGG layers so they will *not* be updated during the\n",
        "# training process\n",
        "vgg.trainable = False\n",
        "\n",
        "# flatten the max-pooling output of VGG\n",
        "flatten = vgg.output\n",
        "flatten = Flatten()(flatten)\n",
        "\n",
        "# construct a fully-connected layer header to output the predicted\n",
        "# bounding box coordinates\n",
        "bboxHead = Dense(256, activation=\"relu\")(bboxHead)\n",
        "bboxHead = Dense(128, activation=\"relu\")(flatten)\n",
        "bboxHead = Dense(64, activation=\"relu\")(bboxHead)\n",
        "bboxHead = Dense(32, activation=\"relu\")(bboxHead)\n",
        "bboxHead = Dense(4, activation=\"sigmoid\")(bboxHead)\n",
        "\n",
        "# construct the model we will fine-tune for bounding box regression\n",
        "model = Model(inputs=vgg.input, outputs=bboxHead)"
      ],
      "execution_count": null,
      "outputs": []
    },
    {
      "cell_type": "code",
      "metadata": {
        "id": "PdSTwZrM1KbD"
      },
      "source": [
        "imagedata_boundingbox_array=np.array(imagedata_boundingbox)\n",
        "imagedata_boundingbox_array=imagedata_boundingbox_array/255"
      ],
      "execution_count": null,
      "outputs": []
    },
    {
      "cell_type": "code",
      "metadata": {
        "id": "NfyukwlB_-GA"
      },
      "source": [
        "coordinates_boundingbox_array=np.array(coordinates_boundingbox)"
      ],
      "execution_count": null,
      "outputs": []
    },
    {
      "cell_type": "code",
      "metadata": {
        "id": "fCTcO0HTAKtg"
      },
      "source": [
        "x_reg_train, x_reg_test, y_reg_train, y_reg_test = train_test_split(imagedata_boundingbox_array,coordinates_boundingbox_array, test_size = 0.20, random_state = 126)"
      ],
      "execution_count": null,
      "outputs": []
    },
    {
      "cell_type": "code",
      "metadata": {
        "colab": {
          "base_uri": "https://localhost:8080/"
        },
        "id": "oay6Zp6FBDsx",
        "outputId": "5b7448a3-07e4-4b0e-a16e-1c838a727577"
      },
      "source": [
        "# initialize the optimizer, compile the model, and show the model\n",
        "# summary\n",
        "opt = Adam(lr = 0.05)\n",
        "model.compile(loss=\"mse\", optimizer=opt)\n",
        "print(model.summary())\n",
        "\n",
        "# train the network for bounding box regression\n",
        "print(\"[INFO] training bounding box regressor...\")\n",
        "H = model.fit(x_reg_train, y_reg_train, validation_data=(x_reg_test, y_reg_test), epochs = 5, verbose=1)"
      ],
      "execution_count": null,
      "outputs": [
        {
          "output_type": "stream",
          "text": [
            "/usr/local/lib/python3.7/dist-packages/keras/optimizer_v2/optimizer_v2.py:356: UserWarning: The `lr` argument is deprecated, use `learning_rate` instead.\n",
            "  \"The `lr` argument is deprecated, use `learning_rate` instead.\")\n"
          ],
          "name": "stderr"
        },
        {
          "output_type": "stream",
          "text": [
            "Model: \"model_3\"\n",
            "_________________________________________________________________\n",
            "Layer (type)                 Output Shape              Param #   \n",
            "=================================================================\n",
            "input_4 (InputLayer)         [(None, 125, 512, 3)]     0         \n",
            "_________________________________________________________________\n",
            "block1_conv1 (Conv2D)        (None, 125, 512, 64)      1792      \n",
            "_________________________________________________________________\n",
            "block1_conv2 (Conv2D)        (None, 125, 512, 64)      36928     \n",
            "_________________________________________________________________\n",
            "block1_pool (MaxPooling2D)   (None, 62, 256, 64)       0         \n",
            "_________________________________________________________________\n",
            "block2_conv1 (Conv2D)        (None, 62, 256, 128)      73856     \n",
            "_________________________________________________________________\n",
            "block2_conv2 (Conv2D)        (None, 62, 256, 128)      147584    \n",
            "_________________________________________________________________\n",
            "block2_pool (MaxPooling2D)   (None, 31, 128, 128)      0         \n",
            "_________________________________________________________________\n",
            "block3_conv1 (Conv2D)        (None, 31, 128, 256)      295168    \n",
            "_________________________________________________________________\n",
            "block3_conv2 (Conv2D)        (None, 31, 128, 256)      590080    \n",
            "_________________________________________________________________\n",
            "block3_conv3 (Conv2D)        (None, 31, 128, 256)      590080    \n",
            "_________________________________________________________________\n",
            "block3_pool (MaxPooling2D)   (None, 15, 64, 256)       0         \n",
            "_________________________________________________________________\n",
            "block4_conv1 (Conv2D)        (None, 15, 64, 512)       1180160   \n",
            "_________________________________________________________________\n",
            "block4_conv2 (Conv2D)        (None, 15, 64, 512)       2359808   \n",
            "_________________________________________________________________\n",
            "block4_conv3 (Conv2D)        (None, 15, 64, 512)       2359808   \n",
            "_________________________________________________________________\n",
            "block4_pool (MaxPooling2D)   (None, 7, 32, 512)        0         \n",
            "_________________________________________________________________\n",
            "block5_conv1 (Conv2D)        (None, 7, 32, 512)        2359808   \n",
            "_________________________________________________________________\n",
            "block5_conv2 (Conv2D)        (None, 7, 32, 512)        2359808   \n",
            "_________________________________________________________________\n",
            "block5_conv3 (Conv2D)        (None, 7, 32, 512)        2359808   \n",
            "_________________________________________________________________\n",
            "block5_pool (MaxPooling2D)   (None, 3, 16, 512)        0         \n",
            "_________________________________________________________________\n",
            "flatten_3 (Flatten)          (None, 24576)             0         \n",
            "_________________________________________________________________\n",
            "dense_14 (Dense)             (None, 128)               3145856   \n",
            "_________________________________________________________________\n",
            "dense_15 (Dense)             (None, 64)                8256      \n",
            "_________________________________________________________________\n",
            "dense_16 (Dense)             (None, 32)                2080      \n",
            "_________________________________________________________________\n",
            "dense_17 (Dense)             (None, 4)                 132       \n",
            "=================================================================\n",
            "Total params: 17,871,012\n",
            "Trainable params: 3,156,324\n",
            "Non-trainable params: 14,714,688\n",
            "_________________________________________________________________\n",
            "None\n",
            "[INFO] training bounding box regressor...\n",
            "Epoch 1/5\n",
            "16/16 [==============================] - 377s 24s/step - loss: 0.1720 - val_loss: 0.1767\n",
            "Epoch 2/5\n",
            "16/16 [==============================] - 373s 24s/step - loss: 0.1780 - val_loss: 0.1767\n",
            "Epoch 3/5\n",
            "16/16 [==============================] - 370s 23s/step - loss: 0.1780 - val_loss: 0.1767\n",
            "Epoch 4/5\n",
            "16/16 [==============================] - 373s 24s/step - loss: 0.1780 - val_loss: 0.1767\n",
            "Epoch 5/5\n",
            "16/16 [==============================] - 366s 23s/step - loss: 0.1780 - val_loss: 0.1767\n"
          ],
          "name": "stdout"
        }
      ]
    }
  ]
}